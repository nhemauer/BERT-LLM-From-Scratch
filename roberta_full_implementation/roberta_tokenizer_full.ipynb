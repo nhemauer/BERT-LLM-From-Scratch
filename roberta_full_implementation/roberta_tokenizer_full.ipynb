{
 "cells": [
  {
   "cell_type": "code",
   "execution_count": null,
   "id": "568b8c07-e466-44bc-9cfc-2a81e34ceeb4",
   "metadata": {},
   "outputs": [],
   "source": [
    "from pathlib import Path\n",
    "from tokenizers import ByteLevelBPETokenizer\n",
    "import torch\n",
    "import json\n",
    "import matplotlib.pyplot as plt\n",
    "import pandas as pd"
   ]
  },
  {
   "cell_type": "code",
   "execution_count": null,
   "id": "c778960f-fe5b-4372-8398-db013296fbfa",
   "metadata": {},
   "outputs": [],
   "source": [
    "### Load Corpus... its very large\n",
    "\n",
    "from datasets import load_dataset\n",
    "from huggingface_hub import login\n",
    "\n",
    "login(token = \"\") # Dont share this\n",
    "\n",
    "# Huge Corpus of English\n",
    "dataset = load_dataset(\"oscar-corpus/OSCAR-2301\",\n",
    "                       token = True, \n",
    "                       language = \"en\", \n",
    "                       streaming = True, \n",
    "                       split = \"train\") "
   ]
  },
  {
   "cell_type": "code",
   "execution_count": null,
   "id": "bbda70e4-f687-40ea-83ae-2070747acbf2",
   "metadata": {},
   "outputs": [],
   "source": [
    "### Create BPE Tokenizer from RoBERTa Paper\n",
    "\n",
    "class Tokenizer:\n",
    "    \n",
    "    def __init__(self, tokenizer_vocab_path, tokenizer_merges_path):\n",
    "        self.tokenizer_vocab = tokenizer_vocab_path\n",
    "        self.tokenizer_merges = tokenizer_merges_path\n",
    "        self.special_tokens = [\"<s>\", \"<pad>\", \"</s>\", \"<unk>\", \"<mask>\"]\n",
    "        self.tokenizer = self._load_tokenizer()\n",
    "    \n",
    "    def _load_tokenizer(self):\n",
    "        tokenizer = ByteLevelBPETokenizer()\n",
    "        \n",
    "        # Load existing tokenizer if available\n",
    "        if Path(self.tokenizer_vocab).exists() and Path(self.tokenizer_merges).exists():\n",
    "            tokenizer = ByteLevelBPETokenizer.from_file(self.tokenizer_vocab, self.tokenizer_merges)\n",
    "            \n",
    "        else:\n",
    "            def text_iterator():\n",
    "                for item in dataset:\n",
    "                    yield item['text']\n",
    "                        \n",
    "            tokenizer.train_from_iterator(\n",
    "                text_iterator(),\n",
    "                vocab_size = 50265,\n",
    "                min_frequency = 2,\n",
    "                special_tokens = self.special_tokens\n",
    "            )\n",
    "            \n",
    "            tokenizer.save_model(\"roberta_tokenizer\", \"my_vocab.json\", \"my_merges.txt\")\n",
    "        \n",
    "        return tokenizer\n",
    "    \n",
    "    # Encode function\n",
    "    def encode(self, text):\n",
    "        return self.tokenizer.encode(text)\n",
    "    \n",
    "    # Decode function\n",
    "    def decode(self, tokens):\n",
    "        try:\n",
    "            decoded_text = self.tokenizer.decode(tokens)\n",
    "        except Exception as e:\n",
    "            print(f\"Error decoding tokens: {tokens}\")\n",
    "            raise e\n",
    "        return decoded_text"
   ]
  },
  {
   "cell_type": "code",
   "execution_count": null,
   "id": "e1263bd8-af30-4ec7-b497-a5ee17f6e09c",
   "metadata": {},
   "outputs": [],
   "source": [
    "### Load Tokenizer or Create New\n",
    "\n",
    "tokenizer_vocab_path = \".json\" \n",
    "tokenizer_merges_path = \".txt\"\n",
    "\n",
    "tokenizer = Tokenizer(tokenizer_vocab_path, tokenizer_merges_path)"
   ]
  },
  {
   "cell_type": "code",
   "execution_count": null,
   "id": "537776f7-0eb3-4a31-9061-7f6a8c7dfcf0",
   "metadata": {},
   "outputs": [],
   "source": [
    "### Encode Text\n",
    "\n",
    "text = [\"This is a tokenizer.\", \"This hopefully works.\", \"It should?\"]\n",
    "text = pd.Series(text)\n",
    "\n",
    "encoded_corpus = []\n",
    "i = 0\n",
    "\n",
    "while i <= len(text) - 1:\n",
    "    example = text.iloc[i]\n",
    "    encoded = tokenizer.encode(example)\n",
    "    encoded_corpus.append(encoded)\n",
    "    i = i + 1\n",
    "    \n",
    "encoded_corpus[1]"
   ]
  },
  {
   "cell_type": "code",
   "execution_count": null,
   "id": "4ef20724-a315-464b-8905-a2571cf1f4de",
   "metadata": {},
   "outputs": [],
   "source": [
    "### Decode Tokens Back to Text\n",
    "\n",
    "decoded_text = []\n",
    "i = 0\n",
    "\n",
    "while i <= len(text) - 1:\n",
    "    example = encoded_corpus[i]\n",
    "    decoded = tokenizer.decode(example.ids)\n",
    "    decoded_text.append(decoded)\n",
    "    i = i + 1\n",
    "    \n",
    "decoded_text[1]"
   ]
  }
 ],
 "metadata": {
  "kernelspec": {
   "display_name": "Python 3",
   "language": "python",
   "name": "python3"
  },
  "language_info": {
   "codemirror_mode": {
    "name": "ipython",
    "version": 3
   },
   "file_extension": ".py",
   "mimetype": "text/x-python",
   "name": "python",
   "nbconvert_exporter": "python",
   "pygments_lexer": "ipython3",
   "version": "3.13.5"
  }
 },
 "nbformat": 4,
 "nbformat_minor": 5
}
