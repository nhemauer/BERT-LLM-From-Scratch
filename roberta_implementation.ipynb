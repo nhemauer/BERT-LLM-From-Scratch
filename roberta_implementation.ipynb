{
 "cells": [
  {
   "cell_type": "code",
   "execution_count": 2,
   "id": "1c0a56d2-0cab-456a-a292-325f044f76a3",
   "metadata": {},
   "outputs": [],
   "source": [
    "import tqdm\n",
    "import pandas as pd\n",
    "import torch\n",
    "import torch.nn as nn\n",
    "from torch import cuda\n",
    "from torch.utils.data import Dataset, DataLoader\n",
    "from transformers import AutoTokenizer\n",
    "from torch.optim import AdamW\n",
    "from transformers import RobertaModel\n",
    "from sklearn.model_selection import train_test_split\n",
    "import random\n",
    "\n",
    "random.seed(1337)\n",
    "\n",
    "device = 'cuda' if cuda.is_available() else 'cpu'"
   ]
  },
  {
   "cell_type": "code",
   "execution_count": 3,
   "id": "5e92aeba-5b59-4e2a-bd0f-c6e31350807a",
   "metadata": {},
   "outputs": [],
   "source": [
    "### Preprocessing Data\n",
    "\n",
    "df = pd.read_csv(\"roberta_from_scratch/motn_data.csv\", encoding = 'latin-1')\n",
    "df = df.iloc[: , 1:]\n",
    "\n",
    "# Remove duplicates (excluding CASEID)\n",
    "columns_to_check = ['comment_text'] + [col for col in df.columns if col not in ['CASEID', 'comment_text']]\n",
    "df = df.drop_duplicates(subset = columns_to_check)\n",
    "\n",
    "df['list'] = df[df.columns[2:]].values.tolist()\n",
    "new_df = df[['CASEID', 'comment_text', 'list']].copy()\n",
    "\n",
    "new_df['list'] = new_df['list'].apply(lambda x: [float(i) for i in x])"
   ]
  },
  {
   "cell_type": "code",
   "execution_count": 4,
   "id": "69595131-ddb0-4971-a28b-5353fb27ff1f",
   "metadata": {},
   "outputs": [],
   "source": [
    "### Define CustomDataset Class\n",
    "\n",
    "class CustomDataset(Dataset):\n",
    "\n",
    "    def __init__(self, dataframe, tokenizer, max_len = 512):\n",
    "        self.tokenizer = tokenizer\n",
    "        self.data = dataframe\n",
    "        self.comment_text = dataframe.comment_text\n",
    "        self.targets = self.data.list\n",
    "        self.CASEID = self.data.CASEID\n",
    "        self.max_len = max_len\n",
    "\n",
    "    def __len__(self):\n",
    "        return len(self.comment_text)\n",
    "\n",
    "    def __getitem__(self, index):\n",
    "        comment_text = str(self.comment_text[index])\n",
    "        comment_text = \" \".join(comment_text.split())\n",
    "\n",
    "        inputs = self.tokenizer.encode_plus(\n",
    "            comment_text,\n",
    "            None,\n",
    "            add_special_tokens = True,\n",
    "            max_length = self.max_len,\n",
    "            padding = 'max_length',\n",
    "            truncation = True,\n",
    "            return_token_type_ids = True\n",
    "        )\n",
    "        ids = inputs['input_ids']\n",
    "        mask = inputs['attention_mask']\n",
    "        token_type_ids = inputs[\"token_type_ids\"]\n",
    "\n",
    "        return {\n",
    "            'caseid': self.CASEID[index],\n",
    "            'text': comment_text,\n",
    "            'ids': torch.tensor(ids, dtype = torch.long),\n",
    "            'mask': torch.tensor(mask, dtype = torch.long),\n",
    "            'token_type_ids': torch.tensor(token_type_ids, dtype = torch.long),\n",
    "            'targets': torch.tensor(self.targets[index], dtype = torch.float)\n",
    "        }"
   ]
  },
  {
   "cell_type": "code",
   "execution_count": 5,
   "id": "5b13c5f5-276d-4e3a-b690-6639892c834e",
   "metadata": {},
   "outputs": [
    {
     "name": "stdout",
     "output_type": "stream",
     "text": [
      "Full Dataset: (5327, 3)\n",
      "Train Dataset: (4261, 3)\n",
      "Validation Dataset: (1066, 3)\n"
     ]
    }
   ],
   "source": [
    "### Split into Train and Validation\n",
    "\n",
    "# Split the dataset into train and test\n",
    "train_val_size = 0.8\n",
    "train_dataset, val_dataset = train_test_split(new_df, test_size = 1 - train_val_size, random_state = 1337, shuffle = True)\n",
    "\n",
    "train_dataset = train_dataset.reset_index(drop = True)\n",
    "val_dataset = val_dataset.reset_index(drop = True)\n",
    "\n",
    "print(\"Full Dataset: {}\".format(new_df.shape))\n",
    "print(\"Train Dataset: {}\".format(train_dataset.shape))\n",
    "print(\"Validation Dataset: {}\".format(val_dataset.shape))\n",
    "\n",
    "# Defining Tokenizer\n",
    "tokenizer = AutoTokenizer.from_pretrained(\"roberta-base\") # sentencepiece won't install, so not using deberta tokenizer\n",
    "\n",
    "# Create the datasets\n",
    "batch_size = 8\n",
    "train_set = CustomDataset(train_dataset, tokenizer)\n",
    "val_set = CustomDataset(val_dataset, tokenizer)\n",
    "\n",
    "params = {'batch_size': batch_size,\n",
    "                'shuffle': True,\n",
    "                'num_workers': 0\n",
    "                }\n",
    "\n",
    "train_loader = DataLoader(train_set, **params)\n",
    "val_loader = DataLoader(val_set, **params)"
   ]
  },
  {
   "cell_type": "code",
   "execution_count": null,
   "id": "53ac7d09-4fb1-411d-9433-1484b4c87289",
   "metadata": {},
   "outputs": [],
   "source": [
    "### Create Customized Model\n",
    "\n",
    "class RoBERTaClass(nn.Module):\n",
    "    def __init__(self, num_classes):\n",
    "        super().__init__()\n",
    "        self.roberta = RobertaModel.from_pretrained('roberta-base')\n",
    "        self.dropout = nn.Dropout(0.1)\n",
    "        self.classifier = nn.Linear(self.roberta.config.hidden_size, num_classes)\n",
    "        \n",
    "    def forward(self, ids, mask, token_type_ids = None):\n",
    "        outputs = self.roberta(ids, attention_mask = mask)\n",
    "        pooled_output = outputs.pooler_output # Use the pooled output (CLS token representation)\n",
    "        pooled_output = self.dropout(pooled_output)\n",
    "        logits = self.classifier(pooled_output)\n",
    "        return logits"
   ]
  },
  {
   "cell_type": "code",
   "execution_count": null,
   "id": "36ef8081-b581-484f-98e9-053720741817",
   "metadata": {
    "tags": []
   },
   "outputs": [],
   "source": [
    "### Defining the Training Function\n",
    "\n",
    "def train_model(model, train_dataset, val_dataset, num_epochs = 10, batch_size = 8, learning_rate = 1e-5):\n",
    "    device = torch.device(\"cuda\" if torch.cuda.is_available() else \"cpu\")\n",
    "    model = model.to(device)\n",
    "    \n",
    "    train_dataloader = DataLoader(train_dataset, batch_size = batch_size, shuffle = True, drop_last = True)\n",
    "    val_dataloader = DataLoader(val_dataset, batch_size = batch_size, drop_last = True)\n",
    "    \n",
    "    optimizer = AdamW(model.parameters(), lr = learning_rate)\n",
    "    \n",
    "    loss_fn = nn.BCEWithLogitsLoss()  # Combines sigmoid + BCE, for multi-label\n",
    "\n",
    "    # Learning rate scheduler \n",
    "    lr_scheduler = torch.optim.lr_scheduler.StepLR( \n",
    "        optimizer,\n",
    "        step_size = 4, # Every 4 epochs, learning rate is reduced\n",
    "        gamma = 0.3 # Multiplicative factor of learning rate decay  \n",
    "    )\n",
    "\n",
    "    for epoch in range(num_epochs):\n",
    "        model.train()\n",
    "        \n",
    "        total_train_loss = 0\n",
    "\n",
    "        # Training\n",
    "        for batch in tqdm.tqdm(train_dataloader, desc = f\"Epoch {epoch + 1} - Training\"):\n",
    "            ids = batch['ids'].to(device)\n",
    "            mask = batch['mask'].to(device)\n",
    "            token_type_ids = batch['token_type_ids'].to(device)\n",
    "            labels = batch['targets'].to(device)\n",
    "            \n",
    "            optimizer.zero_grad()\n",
    "            outputs = model(ids, mask, token_type_ids)\n",
    "            loss = loss_fn(outputs, labels)\n",
    "            loss.backward()\n",
    "            optimizer.step()\n",
    "            total_train_loss += loss.item()\n",
    "            \n",
    "        train_loss = total_train_loss / len(train_dataloader)\n",
    "        \n",
    "        model.eval()\n",
    "        total_val_loss = 0\n",
    "        total_exact_matches = 0\n",
    "        total_samples = 0\n",
    "        total_jaccard = 0\n",
    "        all_preds = []\n",
    "        all_labels = []\n",
    "        \n",
    "        # Validation\n",
    "        with torch.no_grad():\n",
    "            for batch in tqdm.tqdm(val_dataloader, desc = f\"Epoch {epoch + 1} - Validation\"):\n",
    "                ids = batch['ids'].to(device)\n",
    "                mask = batch['mask'].to(device)\n",
    "                token_type_ids = batch['token_type_ids'].to(device)\n",
    "                labels = batch['targets'].to(device)\n",
    "                outputs = model(ids, mask, token_type_ids)\n",
    "                \n",
    "                loss = loss_fn(outputs, labels)\n",
    "                total_val_loss += loss.item()\n",
    "                preds = torch.sigmoid(outputs) > 0.5\n",
    "                \n",
    "                all_preds.append(preds.cpu().view(-1, preds.size(-1)))\n",
    "                all_labels.append(labels.cpu().view(-1, labels.size(-1)))\n",
    "                \n",
    "                # 1. Exact accuracy\n",
    "                total_exact_matches += torch.sum(torch.all(preds == labels, dim=1)).item()\n",
    "                total_samples += labels.size(0)\n",
    "                \n",
    "                # 2. Jaccard Index (intersection over union)\n",
    "                preds_bool = preds.bool()\n",
    "                labels_bool = labels.bool()\n",
    "                intersection = torch.sum(preds_bool & labels_bool, dim=1).float()\n",
    "                union = torch.sum(preds_bool | labels_bool, dim=1).float()\n",
    "                batch_jaccard = torch.mean(intersection / (union + 1e-8)).item()\n",
    "                total_jaccard += batch_jaccard\n",
    "        \n",
    "        # Calculate metrics val_loss, exact_accuracy, jaccard_accuracy\n",
    "        val_loss = total_val_loss / len(val_dataloader)\n",
    "        exact_accuracy = total_exact_matches / total_samples\n",
    "        jaccard_accuracy = total_jaccard / len(val_dataloader)\n",
    "        \n",
    "        # 3. Calculate micro F1\n",
    "        all_preds = torch.cat(all_preds, dim=0)\n",
    "        all_labels = torch.cat(all_labels, dim=0)\n",
    "        all_preds_bool = all_preds.bool()\n",
    "        all_labels_bool = all_labels.bool()\n",
    "        \n",
    "        micro_tp = torch.sum(all_preds_bool & all_labels_bool).float()\n",
    "        micro_fp = torch.sum(all_preds_bool & ~all_labels_bool).float()\n",
    "        micro_fn = torch.sum(~all_preds_bool & all_labels_bool).float()\n",
    "        \n",
    "        micro_precision = micro_tp / (micro_tp + micro_fp + 1e-8)\n",
    "        micro_recall = micro_tp / (micro_tp + micro_fn + 1e-8)\n",
    "        micro_f1 = 2 * micro_precision * micro_recall / (micro_precision + micro_recall + 1e-8)\n",
    "        \n",
    "        # Cache learning rate for logging\n",
    "        current_lr = optimizer.param_groups[0]['lr']\n",
    "        \n",
    "        print(\n",
    "            f\"Epoch {epoch + 1} | train_loss: {train_loss:.4f} | val_loss: {val_loss:.4f} | \"\n",
    "            f\"micro_f1: {micro_f1:.4f} | exact_acc: {exact_accuracy:.4f} | jaccard: {jaccard_accuracy:.4f} | \"\n",
    "            f\"lr: {current_lr:.2e}\"\n",
    "        )\n",
    "        \n",
    "        lr_scheduler.step()\n",
    "    \n",
    "    return model"
   ]
  },
  {
   "cell_type": "code",
   "execution_count": 11,
   "id": "11dbc70d",
   "metadata": {},
   "outputs": [
    {
     "name": "stderr",
     "output_type": "stream",
     "text": [
      "Some weights of RobertaModel were not initialized from the model checkpoint at roberta-base and are newly initialized: ['pooler.dense.bias', 'pooler.dense.weight']\n",
      "You should probably TRAIN this model on a down-stream task to be able to use it for predictions and inference.\n",
      "Epoch 1 - Training: 100%|██████████| 532/532 [01:44<00:00,  5.08it/s]\n",
      "Epoch 1 - Validation: 100%|██████████| 133/133 [00:07<00:00, 16.64it/s]\n"
     ]
    },
    {
     "name": "stdout",
     "output_type": "stream",
     "text": [
      "Epoch 1 | train_loss: 0.2172 | val_loss: 0.1485 | micro_f1: 0.6748 | exact_acc: 0.5197 | jaccard: 0.5710 | lr: 1.00e-05\n"
     ]
    },
    {
     "name": "stderr",
     "output_type": "stream",
     "text": [
      "Epoch 2 - Training: 100%|██████████| 532/532 [01:38<00:00,  5.42it/s]\n",
      "Epoch 2 - Validation: 100%|██████████| 133/133 [00:07<00:00, 17.31it/s]\n"
     ]
    },
    {
     "name": "stdout",
     "output_type": "stream",
     "text": [
      "Epoch 2 | train_loss: 0.1288 | val_loss: 0.1145 | micro_f1: 0.7542 | exact_acc: 0.6118 | jaccard: 0.6659 | lr: 1.00e-05\n"
     ]
    },
    {
     "name": "stderr",
     "output_type": "stream",
     "text": [
      "Epoch 3 - Training: 100%|██████████| 532/532 [01:32<00:00,  5.77it/s]\n",
      "Epoch 3 - Validation: 100%|██████████| 133/133 [00:06<00:00, 19.54it/s]\n"
     ]
    },
    {
     "name": "stdout",
     "output_type": "stream",
     "text": [
      "Epoch 3 | train_loss: 0.0958 | val_loss: 0.1057 | micro_f1: 0.7866 | exact_acc: 0.6814 | jaccard: 0.7331 | lr: 1.00e-05\n"
     ]
    },
    {
     "name": "stderr",
     "output_type": "stream",
     "text": [
      "Epoch 4 - Training: 100%|██████████| 532/532 [01:28<00:00,  6.03it/s]\n",
      "Epoch 4 - Validation: 100%|██████████| 133/133 [00:06<00:00, 19.75it/s]\n"
     ]
    },
    {
     "name": "stdout",
     "output_type": "stream",
     "text": [
      "Epoch 4 | train_loss: 0.0741 | val_loss: 0.0991 | micro_f1: 0.7955 | exact_acc: 0.6983 | jaccard: 0.7450 | lr: 1.00e-05\n"
     ]
    },
    {
     "name": "stderr",
     "output_type": "stream",
     "text": [
      "Epoch 5 - Training: 100%|██████████| 532/532 [01:26<00:00,  6.17it/s]\n",
      "Epoch 5 - Validation: 100%|██████████| 133/133 [00:06<00:00, 19.14it/s]\n"
     ]
    },
    {
     "name": "stdout",
     "output_type": "stream",
     "text": [
      "Epoch 5 | train_loss: 0.0554 | val_loss: 0.1043 | micro_f1: 0.7963 | exact_acc: 0.6955 | jaccard: 0.7484 | lr: 3.00e-06\n"
     ]
    },
    {
     "name": "stderr",
     "output_type": "stream",
     "text": [
      "Epoch 6 - Training: 100%|██████████| 532/532 [01:26<00:00,  6.15it/s]\n",
      "Epoch 6 - Validation: 100%|██████████| 133/133 [00:06<00:00, 19.47it/s]\n"
     ]
    },
    {
     "name": "stdout",
     "output_type": "stream",
     "text": [
      "Epoch 6 | train_loss: 0.0491 | val_loss: 0.1010 | micro_f1: 0.7931 | exact_acc: 0.6964 | jaccard: 0.7498 | lr: 3.00e-06\n"
     ]
    },
    {
     "name": "stderr",
     "output_type": "stream",
     "text": [
      "Epoch 7 - Training: 100%|██████████| 532/532 [01:24<00:00,  6.29it/s]\n",
      "Epoch 7 - Validation: 100%|██████████| 133/133 [00:06<00:00, 21.64it/s]\n"
     ]
    },
    {
     "name": "stdout",
     "output_type": "stream",
     "text": [
      "Epoch 7 | train_loss: 0.0443 | val_loss: 0.1032 | micro_f1: 0.7901 | exact_acc: 0.6945 | jaccard: 0.7462 | lr: 3.00e-06\n"
     ]
    },
    {
     "name": "stderr",
     "output_type": "stream",
     "text": [
      "Epoch 8 - Training: 100%|██████████| 532/532 [01:21<00:00,  6.49it/s]\n",
      "Epoch 8 - Validation: 100%|██████████| 133/133 [00:06<00:00, 19.62it/s]\n"
     ]
    },
    {
     "name": "stdout",
     "output_type": "stream",
     "text": [
      "Epoch 8 | train_loss: 0.0396 | val_loss: 0.1060 | micro_f1: 0.7911 | exact_acc: 0.6945 | jaccard: 0.7507 | lr: 3.00e-06\n"
     ]
    },
    {
     "name": "stderr",
     "output_type": "stream",
     "text": [
      "Epoch 9 - Training: 100%|██████████| 532/532 [01:25<00:00,  6.23it/s]\n",
      "Epoch 9 - Validation: 100%|██████████| 133/133 [00:07<00:00, 18.89it/s]\n"
     ]
    },
    {
     "name": "stdout",
     "output_type": "stream",
     "text": [
      "Epoch 9 | train_loss: 0.0354 | val_loss: 0.1081 | micro_f1: 0.7863 | exact_acc: 0.6889 | jaccard: 0.7474 | lr: 9.00e-07\n"
     ]
    },
    {
     "name": "stderr",
     "output_type": "stream",
     "text": [
      "Epoch 10 - Training: 100%|██████████| 532/532 [01:24<00:00,  6.27it/s]\n",
      "Epoch 10 - Validation: 100%|██████████| 133/133 [00:06<00:00, 21.15it/s]"
     ]
    },
    {
     "name": "stdout",
     "output_type": "stream",
     "text": [
      "Epoch 10 | train_loss: 0.0339 | val_loss: 0.1072 | micro_f1: 0.7801 | exact_acc: 0.6814 | jaccard: 0.7404 | lr: 9.00e-07\n"
     ]
    },
    {
     "name": "stderr",
     "output_type": "stream",
     "text": [
      "\n"
     ]
    }
   ],
   "source": [
    "### Train\n",
    "\n",
    "batch_size = 8\n",
    "epochs = 10\n",
    "learning_rate = 1e-05\n",
    "\n",
    "model = RoBERTaClass(13) # Number of classes\n",
    "\n",
    "trained_model = train_model(\n",
    "    model = model,\n",
    "    train_dataset = train_set,\n",
    "    val_dataset = val_set,\n",
    "    num_epochs = epochs,\n",
    "    batch_size = batch_size,\n",
    "    learning_rate = learning_rate\n",
    ")"
   ]
  }
 ],
 "metadata": {
  "kernelspec": {
   "display_name": "Python 3",
   "language": "python",
   "name": "python3"
  },
  "language_info": {
   "codemirror_mode": {
    "name": "ipython",
    "version": 3
   },
   "file_extension": ".py",
   "mimetype": "text/x-python",
   "name": "python",
   "nbconvert_exporter": "python",
   "pygments_lexer": "ipython3",
   "version": "3.13.5"
  }
 },
 "nbformat": 4,
 "nbformat_minor": 5
}
